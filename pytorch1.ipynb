{
 "cells": [
  {
   "cell_type": "code",
   "execution_count": 1,
   "metadata": {
    "id": "v5KvWgLQUz6a"
   },
   "outputs": [],
   "source": [
    "import numpy as np\n",
    "import matplotlib.pyplot as plt\n",
    "\n",
    "import torch\n",
    "import torch.nn.functional as F\n",
    "import torchvision\n",
    "import torchvision.transforms as transforms\n",
    "from torch import nn \n",
    "from torch import optim\n",
    "from torch.autograd import Variable\n",
    "\n",
    "from sklearn.metrics import accuracy_score"
   ]
  },
  {
   "cell_type": "markdown",
   "metadata": {
    "id": "wWqufNPIVBOc"
   },
   "source": [
    "1). Добиться вразумительного результата от модели, собранной на занятии (3 угаданные картинки из 4 предложенных на семинаре). Варианты изменений:\n",
    " - изменение слоёв и их количества;\n",
    " - изменение метода оптимизации; \n",
    " - изменение процесса обучения; \n",
    " - для продвинутых: преобразование данных."
   ]
  },
  {
   "cell_type": "code",
   "execution_count": 5,
   "metadata": {
    "colab": {
     "base_uri": "https://localhost:8080/",
     "height": 117,
     "referenced_widgets": [
      "c9fa7fde453443e6ac2a5f0ed3b2b3d0",
      "978835bf5d6a41ea8a3c184aaab47e34",
      "bccd829efd6645d29631c7984559fae1",
      "699edcaf3e1740a2b918fb0a704c36be",
      "d3808183e745459db3bf4273175543d4",
      "614a9a037f2941a18b9f6a72792a5265",
      "3bd010ac0a544e4d8bf5c562cb052376",
      "7051389941a8493fb32cfc62d79e38cc"
     ]
    },
    "id": "4iUJSFGBVBmD",
    "outputId": "d516bc67-890c-49db-bfa0-b28341a153c1"
   },
   "outputs": [
    {
     "name": "stdout",
     "output_type": "stream",
     "text": [
      "Downloading https://www.cs.toronto.edu/~kriz/cifar-10-python.tar.gz to /content/data/cifar-10-python.tar.gz\n"
     ]
    },
    {
     "data": {
      "application/vnd.jupyter.widget-view+json": {
       "model_id": "c9fa7fde453443e6ac2a5f0ed3b2b3d0",
       "version_major": 2,
       "version_minor": 0
      },
      "text/plain": [
       "HBox(children=(FloatProgress(value=1.0, bar_style='info', max=1.0), HTML(value='')))"
      ]
     },
     "metadata": {
      "tags": []
     },
     "output_type": "display_data"
    },
    {
     "name": "stdout",
     "output_type": "stream",
     "text": [
      "Extracting /content/data/cifar-10-python.tar.gz to /content/data\n",
      "torch.Size([3, 32, 32])\n",
      "6\n"
     ]
    }
   ],
   "source": [
    "train_dataset = torchvision.datasets.CIFAR10(root='/content/data',\n",
    "                                             train=True,  \n",
    "                                             transform=transforms.ToTensor(), \n",
    "                                             download=True)\n",
    "\n",
    "\n",
    "image, label = train_dataset[0]\n",
    "print (image.size())\n",
    "print (label)"
   ]
  },
  {
   "cell_type": "code",
   "execution_count": 6,
   "metadata": {
    "id": "KgVRYW8Xp-RT"
   },
   "outputs": [],
   "source": [
    "classes = ('plane', 'car', 'bird', 'cat',\n",
    "           'deer', 'dog', 'frog', 'horse', 'ship', 'truck')"
   ]
  },
  {
   "cell_type": "code",
   "execution_count": 7,
   "metadata": {
    "colab": {
     "base_uri": "https://localhost:8080/",
     "height": 283
    },
    "id": "hrBIRpUqVBqt",
    "outputId": "2a0f7e9b-2b64-4a77-b31c-1199684d3577"
   },
   "outputs": [
    {
     "data": {
      "text/plain": [
       "<matplotlib.image.AxesImage at 0x7ff89f7b65c0>"
      ]
     },
     "execution_count": 7,
     "metadata": {
      "tags": []
     },
     "output_type": "execute_result"
    },
    {
     "data": {
      "image/png": "[encoded data removed]",
      "text/plain": [
       "<Figure size 432x288 with 1 Axes>"
      ]
     },
     "metadata": {
      "needs_background": "light",
      "tags": []
     },
     "output_type": "display_data"
    }
   ],
   "source": [
    "plt.imshow(image.permute(1, 2, 0).numpy())"
   ]
  },
  {
   "cell_type": "code",
   "execution_count": 8,
   "metadata": {
    "id": "H99-2ie8VBiY"
   },
   "outputs": [],
   "source": [
    "train_loader = torch.utils.data.DataLoader(dataset=train_dataset,\n",
    "                                           batch_size=40, \n",
    "                                           shuffle=True)"
   ]
  },
  {
   "cell_type": "code",
   "execution_count": 9,
   "metadata": {
    "colab": {
     "base_uri": "https://localhost:8080/",
     "height": 34
    },
    "id": "dFjNKp-5je9C",
    "outputId": "b50c2f76-ae16-4973-c2d9-8ab2bbe44094"
   },
   "outputs": [
    {
     "name": "stdout",
     "output_type": "stream",
     "text": [
      "Files already downloaded and verified\n"
     ]
    }
   ],
   "source": [
    "test_dataset = torchvision.datasets.CIFAR10(root='/content/data', train=False,\n",
    "                                       download=True, transform=transforms.ToTensor())\n",
    "test_loader = torch.utils.data.DataLoader(test_dataset, batch_size=1,\n",
    "                                         shuffle=False)"
   ]
  },
  {
   "cell_type": "markdown",
   "metadata": {},
   "source": [
    "Переписал на pytorch модель отсюда:\n",
    " - https://github.com/NovikovVN/neural_networks/blob/master/intro/neural_networks04.ipynb"
   ]
  },
  {
   "cell_type": "code",
   "execution_count": 32,
   "metadata": {
    "id": "n8y2qvmO-Y2z"
   },
   "outputs": [],
   "source": [
    "class Net(nn.Module):\n",
    "    def __init__(self):\n",
    "        super().__init__()\n",
    "        self.conv1 = nn.Conv2d(3, 32, 5, padding=1)\n",
    "        self.conv2 = nn.Conv2d(32, 32, 5, padding=1)\n",
    "        self.pool1 = nn.MaxPool2d(2, 2)\n",
    "        self.conv3 = nn.Conv2d(32, 64, 5, padding=1)\n",
    "        self.conv4 = nn.Conv2d(64, 64, 5, padding=1)\n",
    "        self.pool2 = nn.MaxPool2d((2, 2), stride=1)\n",
    "        self.fc1 = nn.Linear(64 * 9 * 9, 256)\n",
    "        self.fc2 = nn.Linear(256, 256)\n",
    "        self.fc3 = nn.Linear(256, 10)\n",
    "        self.dropout = nn.Dropout(0.3)\n",
    "\n",
    "    def forward(self, x):\n",
    "        x = F.relu(self.conv1(x))\n",
    "        x = self.pool1(F.relu(self.conv2(x)))\n",
    "        x = self.dropout(x)\n",
    "        x = F.relu(self.conv3(x))\n",
    "        x = self.pool2(F.relu(self.conv4(x)))        \n",
    "        x = self.dropout(x)\n",
    "        x = x.view(-1, 64 * 9 * 9)\n",
    "        x = F.relu(self.fc1(x))\n",
    "        x = F.relu(self.fc2(x))\n",
    "        x = self.dropout(x)\n",
    "        x = self.fc3(x)\n",
    "        return x\n",
    "\n",
    "\n",
    "net = Net().to('cpu')"
   ]
  },
  {
   "cell_type": "code",
   "execution_count": 33,
   "metadata": {
    "id": "7sPBKRrSVBfw"
   },
   "outputs": [],
   "source": [
    "criterion = nn.CrossEntropyLoss()\n",
    "optimizer = optim.SGD(net.parameters(), lr=0.001, momentum=0.9)"
   ]
  },
  {
   "cell_type": "code",
   "execution_count": null,
   "metadata": {
    "colab": {
     "base_uri": "https://localhost:8080/",
     "height": 561
    },
    "id": "vq20s19wj5t7",
    "outputId": "4cbb2132-6268-4796-c5f1-7beddd55a99f"
   },
   "outputs": [
    {
     "name": "stdout",
     "output_type": "stream",
     "text": [
      "[1,     1] loss: 0.001153 acuuracy: 0.050\n",
      "[1,   301] loss: 0.345507 acuuracy: 0.150\n",
      "[1,   601] loss: 0.345422 acuuracy: 0.025\n",
      "[1,   901] loss: 0.345241 acuuracy: 0.075\n",
      "[1,  1201] loss: 0.345090 acuuracy: 0.125\n",
      "[2,     1] loss: 0.001156 acuuracy: 0.000\n",
      "[2,   301] loss: 0.344103 acuuracy: 0.075\n",
      "[2,   601] loss: 0.337429 acuuracy: 0.175\n",
      "[2,   901] loss: 0.315847 acuuracy: 0.100\n",
      "[2,  1201] loss: 0.304430 acuuracy: 0.275\n",
      "[3,     1] loss: 0.001071 acuuracy: 0.125\n",
      "[3,   301] loss: 0.297101 acuuracy: 0.300\n",
      "[3,   601] loss: 0.291567 acuuracy: 0.200\n",
      "[3,   901] loss: 0.283098 acuuracy: 0.300\n",
      "[3,  1201] loss: 0.273909 acuuracy: 0.275\n",
      "[4,     1] loss: 0.000950 acuuracy: 0.350\n",
      "[4,   301] loss: 0.265296 acuuracy: 0.350\n",
      "[4,   601] loss: 0.260097 acuuracy: 0.275\n",
      "[4,   901] loss: 0.255848 acuuracy: 0.475\n",
      "[4,  1201] loss: 0.250332 acuuracy: 0.350\n",
      "[5,     1] loss: 0.000702 acuuracy: 0.550\n",
      "[5,   301] loss: 0.245818 acuuracy: 0.250\n",
      "[5,   601] loss: 0.242237 acuuracy: 0.450\n",
      "[5,   901] loss: 0.237133 acuuracy: 0.375\n",
      "[5,  1201] loss: 0.231879 acuuracy: 0.375\n",
      "[6,     1] loss: 0.000654 acuuracy: 0.450\n",
      "[6,   301] loss: 0.227861 acuuracy: 0.450\n",
      "[6,   601] loss: 0.226509 acuuracy: 0.550\n",
      "[6,   901] loss: 0.222372 acuuracy: 0.550\n",
      "[6,  1201] loss: 0.219207 acuuracy: 0.250\n",
      "[7,     1] loss: 0.000825 acuuracy: 0.500\n",
      "[7,   301] loss: 0.214535 acuuracy: 0.475\n"
     ]
    }
   ],
   "source": [
    "%%time\n",
    "for epoch in range(20):  \n",
    "    running_loss = 0.0\n",
    "    for i, data in enumerate(train_loader, 0):\n",
    "        inputs, labels = data[0], data[1]\n",
    "\n",
    "        # обнуляем градиент\n",
    "        optimizer.zero_grad()\n",
    "\n",
    "        outputs = net(inputs)\n",
    "        loss = criterion(outputs, labels)\n",
    "        loss.backward()\n",
    "        optimizer.step()\n",
    "\n",
    "        # выводим статистику о процессе обучения\n",
    "        running_loss += loss.item()\n",
    "        if i % 300 == 0:    # печатаем каждые 300 mini-batches\n",
    "            _, predicted = torch.max(outputs, 1)\n",
    "            accuracy = accuracy_score(labels, predicted)\n",
    "            print('[%d, %5d] loss: %.6f accuracy: %.3f' %\n",
    "                  (epoch + 1, i + 1, running_loss / 2000, accuracy))\n",
    "            running_loss = 0.0\n",
    "\n",
    "print('Training is finished!')"
   ]
  },
  {
   "cell_type": "code",
   "execution_count": 351,
   "metadata": {
    "id": "NoJM4FSrkiwi"
   },
   "outputs": [],
   "source": [
    "data_iter = iter(test_loader)\n",
    "images, labels = data_iter.next()"
   ]
  },
  {
   "cell_type": "code",
   "execution_count": 352,
   "metadata": {
    "colab": {
     "base_uri": "https://localhost:8080/",
     "height": 283
    },
    "id": "wqEd9y69qOTw",
    "outputId": "b83d8dfe-f8f5-45e2-d04d-6f9a0fbe6726"
   },
   "outputs": [
    {
     "name": "stdout",
     "output_type": "stream",
     "text": [
      "GroundTruth:    cat\n"
     ]
    },
    {
     "data": {
      "image/png": "[encoded data removed]",
      "text/plain": [
       "<Figure size 432x288 with 1 Axes>"
      ]
     },
     "metadata": {
      "needs_background": "light",
      "tags": []
     },
     "output_type": "display_data"
    }
   ],
   "source": [
    "outputs = net(images)\n",
    "imgs = torchvision.utils.make_grid(images)\n",
    "plt.imshow(imgs.permute(1, 2, 0).numpy())\n",
    "print('GroundTruth: ', ' '.join('%5s' % classes[labels[j]] for j in range(1)))"
   ]
  },
  {
   "cell_type": "code",
   "execution_count": 26,
   "metadata": {
    "colab": {
     "base_uri": "https://localhost:8080/",
     "height": 34
    },
    "id": "yrSd1cBmp3BU",
    "outputId": "11beccd8-8c7a-4683-abf5-ab43acb53765"
   },
   "outputs": [
    {
     "name": "stdout",
     "output_type": "stream",
     "text": [
      "Predicted:    cat\n"
     ]
    }
   ],
   "source": [
    "_, predicted = torch.max(outputs, 1)\n",
    "\n",
    "print('Predicted: ', ' '.join('%5s' % classes[predicted[j]]\n",
    "                              for j in range(1)))"
   ]
  },
  {
   "cell_type": "code",
   "execution_count": 26,
   "metadata": {
    "colab": {
     "base_uri": "https://localhost:8080/",
     "height": 51
    },
    "id": "wsBPWWXLMM3s",
    "outputId": "f256131d-4cd7-404f-e1a1-e615a872ac9a"
   },
   "outputs": [
    {
     "data": {
      "text/plain": [
       "tensor([0, 8, 9, 6, 3, 3, 1, 5, 9, 7, 3, 2, 2, 1, 7, 5, 3, 2, 6, 1, 9, 1, 2, 3,\n",
       "        9, 7, 7, 4, 6, 4, 3, 9, 2, 1, 2, 8, 2, 5, 7, 0])"
      ]
     },
     "execution_count": 26,
     "metadata": {
      "tags": []
     },
     "output_type": "execute_result"
    }
   ],
   "source": [
    "labels"
   ]
  },
  {
   "cell_type": "code",
   "execution_count": 29,
   "metadata": {
    "colab": {
     "base_uri": "https://localhost:8080/",
     "height": 51
    },
    "id": "W0lYhXlSMPEr",
    "outputId": "49932af2-755a-41fa-9319-42a7d507baa0"
   },
   "outputs": [
    {
     "data": {
      "text/plain": [
       "tensor([0, 3, 3, 9, 0, 7, 2, 6, 1, 9, 0, 0, 2, 3, 6, 7, 2, 6, 6, 6, 8, 9, 6, 4,\n",
       "        1, 7, 7, 3, 8, 7, 1, 4, 9, 0, 6, 9, 6, 3, 9, 4])"
      ]
     },
     "execution_count": 29,
     "metadata": {
      "tags": []
     },
     "output_type": "execute_result"
    }
   ],
   "source": [
    "_, predicted = torch.max(outputs, 1)\n",
    "predicted"
   ]
  },
  {
   "cell_type": "code",
   "execution_count": 31,
   "metadata": {
    "colab": {
     "base_uri": "https://localhost:8080/",
     "height": 34
    },
    "id": "vmR4moYyMcCP",
    "outputId": "0acc5332-d7f2-491d-9644-337f442141b1"
   },
   "outputs": [
    {
     "data": {
      "text/plain": [
       "0.125"
      ]
     },
     "execution_count": 31,
     "metadata": {
      "tags": []
     },
     "output_type": "execute_result"
    }
   ],
   "source": []
  },
  {
   "cell_type": "markdown",
   "metadata": {
    "id": "qKJ_QY39bVhP"
   },
   "source": [
    "2). Взять часть, где мы делали один шаг обучения, и обернуть его в цикл по схеме, как обучали модель в конце занятия."
   ]
  },
  {
   "cell_type": "code",
   "execution_count": 30,
   "metadata": {
    "id": "ZY2AGgdnbQv8"
   },
   "outputs": [],
   "source": [
    "def print_tens_info(tensor):\n",
    "    print(\"X :\\n%s\\n\" % tensor)\n",
    "    print(\"X количество измерений:\\n%s\\n\" % tensor.dim())\n",
    "    print(\"X размеры : \",  tensor.size())\n",
    "    print(\"X тип : %s\\n\" % (tensor.type()))\n",
    "#     print(\"Добавим 10 :\\n%s\\n\" % (tensor + 10))\n",
    "#     print(\"Среднее по строчке :\\n%s\\n\" % (tensor.mean(axis=-1)))\n",
    "#     print(\"Среднее по столбцу :\\n%s\\n\" % (tensor.mean(axis=0)))\n",
    "    "
   ]
  },
  {
   "cell_type": "code",
   "execution_count": 110,
   "metadata": {
    "id": "4iqTZNh5bQyi"
   },
   "outputs": [],
   "source": [
    "x = Variable(torch.randn(2), requires_grad = True)\n",
    "y = Variable(torch.randn(2), requires_grad = False)"
   ]
  },
  {
   "cell_type": "code",
   "execution_count": 111,
   "metadata": {
    "colab": {
     "base_uri": "https://localhost:8080/",
     "height": 170
    },
    "id": "Y50_qoLLbQsL",
    "outputId": "10a31813-e616-4655-95f3-e65179be4177"
   },
   "outputs": [
    {
     "name": "stdout",
     "output_type": "stream",
     "text": [
      "X :\n",
      "tensor([ 0.3608, -0.1582])\n",
      "\n",
      "X количество измерений:\n",
      "1\n",
      "\n",
      "X размеры :  torch.Size([2])\n",
      "X тип : torch.FloatTensor\n",
      "\n"
     ]
    }
   ],
   "source": [
    "print_tens_info(X)"
   ]
  },
  {
   "cell_type": "code",
   "execution_count": 112,
   "metadata": {
    "id": "XCjm5UA9dOSD"
   },
   "outputs": [],
   "source": [
    "linear = nn.Linear(2, 2)"
   ]
  },
  {
   "cell_type": "code",
   "execution_count": 113,
   "metadata": {
    "id": "SGIEVIhNecIw"
   },
   "outputs": [],
   "source": [
    "criterion = nn.MSELoss()\n",
    "optimizer = torch.optim.SGD(linear.parameters(), lr=0.01)"
   ]
  },
  {
   "cell_type": "code",
   "execution_count": 114,
   "metadata": {
    "colab": {
     "base_uri": "https://localhost:8080/",
     "height": 306
    },
    "id": "6lEnyrQBeysn",
    "outputId": "efce049f-1cec-4ab2-ec26-f34eb25e8ec6"
   },
   "outputs": [
    {
     "name": "stdout",
     "output_type": "stream",
     "text": [
      "[  0] loss: 1.175266\n",
      "[ 20] loss: 0.440526\n",
      "[ 40] loss: 0.165123\n",
      "[ 60] loss: 0.061893\n",
      "[ 80] loss: 0.023199\n",
      "[100] loss: 0.008696\n",
      "[120] loss: 0.003259\n",
      "[140] loss: 0.001222\n",
      "[160] loss: 0.000458\n",
      "[180] loss: 0.000172\n",
      "[200] loss: 0.000064\n",
      "[220] loss: 0.000024\n",
      "[240] loss: 0.000009\n",
      "[260] loss: 0.000003\n",
      "[280] loss: 0.000001\n",
      "[300] loss: 0.000000\n",
      "[320] loss: 0.000000\n"
     ]
    }
   ],
   "source": [
    "for i in range(1000):  \n",
    "    optimizer.zero_grad()\n",
    "\n",
    "    pred = linear(x)\n",
    "    loss = criterion(pred, y)\n",
    "    loss.backward()\n",
    "    optimizer.step()\n",
    "\n",
    "    if i % 20 == 0:\n",
    "        print('[%3d] loss: %.6f' %\n",
    "                  (i, loss.item()))        \n",
    "\n",
    "    if loss.item() <= 1e-6:\n",
    "        break"
   ]
  },
  {
   "cell_type": "code",
   "execution_count": 120,
   "metadata": {
    "colab": {
     "base_uri": "https://localhost:8080/",
     "height": 51
    },
    "id": "4PZBRvdnoW92",
    "outputId": "9b4e7f20-4c36-4ec4-f2be-8cd6ef0ecc7c"
   },
   "outputs": [
    {
     "name": "stdout",
     "output_type": "stream",
     "text": [
      "y:     tensor([ 0.3608, -0.1582])\n",
      "pred:  tensor([ 0.3604, -0.1580], grad_fn=<AddBackward0>)\n"
     ]
    }
   ],
   "source": [
    "print('y:    ', y)\n",
    "print('pred: ', pred)"
   ]
  },
  {
   "cell_type": "markdown",
   "metadata": {
    "id": "r3i1wfHwp9fX"
   },
   "source": [
    "3). Переписать эту программу на PyTorch: \n",
    "![img/img.png](img/img.png)\n",
    "<br>Не забудьте про реализацию функции forward! "
   ]
  },
  {
   "cell_type": "code",
   "execution_count": 240,
   "metadata": {
    "id": "QnJP3cymu6Cw"
   },
   "outputs": [],
   "source": [
    "class Net3(nn.Module):\n",
    "    def __init__(self):\n",
    "        super().__init__()\n",
    "        self.fc1 = nn.Linear(28*28, 128)\n",
    "        self.dropout = nn.Dropout(0.2)\n",
    "        self.fc2 = nn.Linear(128, 10)\n",
    "\n",
    "    def forward(self, x):\n",
    "        x = x.view(-1, 28*28)\n",
    "        x = F.relu(self.fc1(x))\n",
    "        x = self.dropout(x)\n",
    "        x = F.log_softmax(self.fc2(x), dim=-1)\n",
    "        # x = self.fc2(x)\n",
    "        return x\n",
    "\n",
    "\n",
    "net3 = Net3().to('cpu')"
   ]
  },
  {
   "cell_type": "code",
   "execution_count": 228,
   "metadata": {
    "id": "MA27waiquMA6"
   },
   "outputs": [],
   "source": [
    "criterion = nn.CrossEntropyLoss()\n",
    "optimizer = torch.optim.Adam(net3.parameters())"
   ]
  },
  {
   "cell_type": "code",
   "execution_count": 241,
   "metadata": {
    "colab": {
     "base_uri": "https://localhost:8080/",
     "height": 34
    },
    "id": "fuHrhEBSwMjZ",
    "outputId": "ccc589a0-33d5-4cb1-83d3-739f9c6dd396"
   },
   "outputs": [
    {
     "data": {
      "text/plain": [
       "torch.Size([28, 28])"
      ]
     },
     "execution_count": 241,
     "metadata": {
      "tags": []
     },
     "output_type": "execute_result"
    }
   ],
   "source": [
    "x3 = Variable(torch.randn((28, 28)), requires_grad = True)\n",
    "x3.size()"
   ]
  },
  {
   "cell_type": "code",
   "execution_count": 255,
   "metadata": {
    "colab": {
     "base_uri": "https://localhost:8080/",
     "height": 34
    },
    "id": "2_mwMy5Vym9e",
    "outputId": "4828a607-b6b6-4bf4-e523-66cd3d8bde86"
   },
   "outputs": [
    {
     "data": {
      "text/plain": [
       "torch.Size([1, 1, 10])"
      ]
     },
     "execution_count": 255,
     "metadata": {
      "tags": []
     },
     "output_type": "execute_result"
    }
   ],
   "source": [
    "y3 = np.zeros(10)\n",
    "y3[3] = 1.\n",
    "\n",
    "y3 = Variable(torch.tensor(y3.reshape(1, 1, 10)), requires_grad = False)\n",
    "y3.size()"
   ]
  },
  {
   "cell_type": "code",
   "execution_count": 256,
   "metadata": {
    "colab": {
     "base_uri": "https://localhost:8080/",
     "height": 34
    },
    "id": "NEHWZe4Nv6oN",
    "outputId": "6305b8c5-baf3-4220-db58-58f881eb42e5"
   },
   "outputs": [
    {
     "data": {
      "text/plain": [
       "torch.Size([1, 10])"
      ]
     },
     "execution_count": 256,
     "metadata": {
      "tags": []
     },
     "output_type": "execute_result"
    }
   ],
   "source": [
    "pred3 = net3(x3)\n",
    "pred3.size()"
   ]
  },
  {
   "cell_type": "code",
   "execution_count": 257,
   "metadata": {
    "colab": {
     "base_uri": "https://localhost:8080/",
     "height": 51
    },
    "id": "CqgxAcsY7RnM",
    "outputId": "9d30659a-8d68-403b-d1b4-1e9d9778ca7a"
   },
   "outputs": [
    {
     "data": {
      "text/plain": [
       "tensor([[-0.4023, -0.0394, -0.1181, -0.2914, -0.2820, -0.1541,  0.0940,  0.0717,\n",
       "         -0.0481, -0.0045]], grad_fn=<AddmmBackward>)"
      ]
     },
     "execution_count": 257,
     "metadata": {
      "tags": []
     },
     "output_type": "execute_result"
    }
   ],
   "source": [
    "pred3"
   ]
  }
 ],
 "metadata": {
  "accelerator": "GPU",
  "colab": {
   "collapsed_sections": [],
   "name": "pytorch1.ipynb",
   "provenance": []
  },
  "kernelspec": {
   "display_name": "Python 3",
   "language": "python",
   "name": "python3"
  },
  "language_info": {
   "codemirror_mode": {
    "name": "ipython",
    "version": 3
   },
   "file_extension": ".py",
   "mimetype": "text/x-python",
   "name": "python",
   "nbconvert_exporter": "python",
   "pygments_lexer": "ipython3",
   "version": "3.7.3"
  },
  "widgets": {
   "application/vnd.jupyter.widget-state+json": {
    "3bd010ac0a544e4d8bf5c562cb052376": {
     "model_module": "@jupyter-widgets/controls",
     "model_name": "DescriptionStyleModel",
     "state": {
      "_model_module": "@jupyter-widgets/controls",
      "_model_module_version": "1.5.0",
      "_model_name": "DescriptionStyleModel",
      "_view_count": null,
      "_view_module": "@jupyter-widgets/base",
      "_view_module_version": "1.2.0",
      "_view_name": "StyleView",
      "description_width": ""
     }
    },
    "614a9a037f2941a18b9f6a72792a5265": {
     "model_module": "@jupyter-widgets/base",
     "model_name": "LayoutModel",
     "state": {
      "_model_module": "@jupyter-widgets/base",
      "_model_module_version": "1.2.0",
      "_model_name": "LayoutModel",
      "_view_count": null,
      "_view_module": "@jupyter-widgets/base",
      "_view_module_version": "1.2.0",
      "_view_name": "LayoutView",
      "align_content": null,
      "align_items": null,
      "align_self": null,
      "border": null,
      "bottom": null,
      "display": null,
      "flex": null,
      "flex_flow": null,
      "grid_area": null,
      "grid_auto_columns": null,
      "grid_auto_flow": null,
      "grid_auto_rows": null,
      "grid_column": null,
      "grid_gap": null,
      "grid_row": null,
      "grid_template_areas": null,
      "grid_template_columns": null,
      "grid_template_rows": null,
      "height": null,
      "justify_content": null,
      "justify_items": null,
      "left": null,
      "margin": null,
      "max_height": null,
      "max_width": null,
      "min_height": null,
      "min_width": null,
      "object_fit": null,
      "object_position": null,
      "order": null,
      "overflow": null,
      "overflow_x": null,
      "overflow_y": null,
      "padding": null,
      "right": null,
      "top": null,
      "visibility": null,
      "width": null
     }
    },
    "699edcaf3e1740a2b918fb0a704c36be": {
     "model_module": "@jupyter-widgets/controls",
     "model_name": "HTMLModel",
     "state": {
      "_dom_classes": [],
      "_model_module": "@jupyter-widgets/controls",
      "_model_module_version": "1.5.0",
      "_model_name": "HTMLModel",
      "_view_count": null,
      "_view_module": "@jupyter-widgets/controls",
      "_view_module_version": "1.5.0",
      "_view_name": "HTMLView",
      "description": "",
      "description_tooltip": null,
      "layout": "IPY_MODEL_7051389941a8493fb32cfc62d79e38cc",
      "placeholder": "​",
      "style": "IPY_MODEL_3bd010ac0a544e4d8bf5c562cb052376",
      "value": " 170500096/? [00:20&lt;00:00, 52557013.89it/s]"
     }
    },
    "7051389941a8493fb32cfc62d79e38cc": {
     "model_module": "@jupyter-widgets/base",
     "model_name": "LayoutModel",
     "state": {
      "_model_module": "@jupyter-widgets/base",
      "_model_module_version": "1.2.0",
      "_model_name": "LayoutModel",
      "_view_count": null,
      "_view_module": "@jupyter-widgets/base",
      "_view_module_version": "1.2.0",
      "_view_name": "LayoutView",
      "align_content": null,
      "align_items": null,
      "align_self": null,
      "border": null,
      "bottom": null,
      "display": null,
      "flex": null,
      "flex_flow": null,
      "grid_area": null,
      "grid_auto_columns": null,
      "grid_auto_flow": null,
      "grid_auto_rows": null,
      "grid_column": null,
      "grid_gap": null,
      "grid_row": null,
      "grid_template_areas": null,
      "grid_template_columns": null,
      "grid_template_rows": null,
      "height": null,
      "justify_content": null,
      "justify_items": null,
      "left": null,
      "margin": null,
      "max_height": null,
      "max_width": null,
      "min_height": null,
      "min_width": null,
      "object_fit": null,
      "object_position": null,
      "order": null,
      "overflow": null,
      "overflow_x": null,
      "overflow_y": null,
      "padding": null,
      "right": null,
      "top": null,
      "visibility": null,
      "width": null
     }
    },
    "978835bf5d6a41ea8a3c184aaab47e34": {
     "model_module": "@jupyter-widgets/base",
     "model_name": "LayoutModel",
     "state": {
      "_model_module": "@jupyter-widgets/base",
      "_model_module_version": "1.2.0",
      "_model_name": "LayoutModel",
      "_view_count": null,
      "_view_module": "@jupyter-widgets/base",
      "_view_module_version": "1.2.0",
      "_view_name": "LayoutView",
      "align_content": null,
      "align_items": null,
      "align_self": null,
      "border": null,
      "bottom": null,
      "display": null,
      "flex": null,
      "flex_flow": null,
      "grid_area": null,
      "grid_auto_columns": null,
      "grid_auto_flow": null,
      "grid_auto_rows": null,
      "grid_column": null,
      "grid_gap": null,
      "grid_row": null,
      "grid_template_areas": null,
      "grid_template_columns": null,
      "grid_template_rows": null,
      "height": null,
      "justify_content": null,
      "justify_items": null,
      "left": null,
      "margin": null,
      "max_height": null,
      "max_width": null,
      "min_height": null,
      "min_width": null,
      "object_fit": null,
      "object_position": null,
      "order": null,
      "overflow": null,
      "overflow_x": null,
      "overflow_y": null,
      "padding": null,
      "right": null,
      "top": null,
      "visibility": null,
      "width": null
     }
    },
    "bccd829efd6645d29631c7984559fae1": {
     "model_module": "@jupyter-widgets/controls",
     "model_name": "FloatProgressModel",
     "state": {
      "_dom_classes": [],
      "_model_module": "@jupyter-widgets/controls",
      "_model_module_version": "1.5.0",
      "_model_name": "FloatProgressModel",
      "_view_count": null,
      "_view_module": "@jupyter-widgets/controls",
      "_view_module_version": "1.5.0",
      "_view_name": "ProgressView",
      "bar_style": "info",
      "description": "",
      "description_tooltip": null,
      "layout": "IPY_MODEL_614a9a037f2941a18b9f6a72792a5265",
      "max": 1,
      "min": 0,
      "orientation": "horizontal",
      "style": "IPY_MODEL_d3808183e745459db3bf4273175543d4",
      "value": 1
     }
    },
    "c9fa7fde453443e6ac2a5f0ed3b2b3d0": {
     "model_module": "@jupyter-widgets/controls",
     "model_name": "HBoxModel",
     "state": {
      "_dom_classes": [],
      "_model_module": "@jupyter-widgets/controls",
      "_model_module_version": "1.5.0",
      "_model_name": "HBoxModel",
      "_view_count": null,
      "_view_module": "@jupyter-widgets/controls",
      "_view_module_version": "1.5.0",
      "_view_name": "HBoxView",
      "box_style": "",
      "children": [
       "IPY_MODEL_bccd829efd6645d29631c7984559fae1",
       "IPY_MODEL_699edcaf3e1740a2b918fb0a704c36be"
      ],
      "layout": "IPY_MODEL_978835bf5d6a41ea8a3c184aaab47e34"
     }
    },
    "d3808183e745459db3bf4273175543d4": {
     "model_module": "@jupyter-widgets/controls",
     "model_name": "ProgressStyleModel",
     "state": {
      "_model_module": "@jupyter-widgets/controls",
      "_model_module_version": "1.5.0",
      "_model_name": "ProgressStyleModel",
      "_view_count": null,
      "_view_module": "@jupyter-widgets/base",
      "_view_module_version": "1.2.0",
      "_view_name": "StyleView",
      "bar_color": null,
      "description_width": "initial"
     }
    }
   }
  }
 },
 "nbformat": 4,
 "nbformat_minor": 1
}
